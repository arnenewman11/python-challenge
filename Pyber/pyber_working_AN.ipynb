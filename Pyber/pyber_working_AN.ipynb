{
 "cells": [
  {
   "cell_type": "markdown",
   "metadata": {},
   "source": [
    "# Pyber Ryde Sharing (Arne Newman)"
   ]
  },
  {
   "cell_type": "markdown",
   "metadata": {},
   "source": [
    "Observed Trend 1: Urban cities generally have higher ride numbers, followed by suburban cities, then rural cities - this is an intuitive concept due to population density and the dynamics of different city types (e.g., higher population of car owners in rural/suburban areas, lack of accessible parking in urban areas). \n",
    "\n",
    "Observed Trend 2: Average fares are highest in rural cities, followed by suburban cities, and finally urban cities. This may be driven by ride length (in distance), as fares are calculated as a function of length. Rural, then suburban areas, will generally have longer distances between rider origin and destination. I would be curious to see the impacts of ride time (as a function of traffic and non-distance variables) and surge pricing on fares.  \n",
    "\n",
    "Observed Trend 3: Urban areas make up an even greater share of total drivers than total fares or number of rides. One potential reason for this is that there is more competition for drivers in urban areas, likely created by the higher demand for rides (which makes driving more financially attractive). In suburban and rural areas, where there is lower demand for rides (and thus driving is less attractive), drivers are in shorter supply so a smaller number are able to meet the full ride demand."
   ]
  },
  {
   "cell_type": "code",
   "execution_count": 51,
   "metadata": {
    "collapsed": true
   },
   "outputs": [],
   "source": [
    "# Import Dependencies\n",
    "import matplotlib.pyplot as plt\n",
    "import pandas as pd\n",
    "import numpy as np\n",
    "import seaborn as sns"
   ]
  },
  {
   "cell_type": "code",
   "execution_count": 52,
   "metadata": {},
   "outputs": [
    {
     "name": "stdout",
     "output_type": "stream",
     "text": [
      "2375\n"
     ]
    },
    {
     "data": {
      "text/html": [
       "<div>\n",
       "<style>\n",
       "    .dataframe thead tr:only-child th {\n",
       "        text-align: right;\n",
       "    }\n",
       "\n",
       "    .dataframe thead th {\n",
       "        text-align: left;\n",
       "    }\n",
       "\n",
       "    .dataframe tbody tr th {\n",
       "        vertical-align: top;\n",
       "    }\n",
       "</style>\n",
       "<table border=\"1\" class=\"dataframe\">\n",
       "  <thead>\n",
       "    <tr style=\"text-align: right;\">\n",
       "      <th></th>\n",
       "      <th>city</th>\n",
       "      <th>driver_count</th>\n",
       "      <th>type</th>\n",
       "    </tr>\n",
       "  </thead>\n",
       "  <tbody>\n",
       "    <tr>\n",
       "      <th>0</th>\n",
       "      <td>Kelseyland</td>\n",
       "      <td>63</td>\n",
       "      <td>Urban</td>\n",
       "    </tr>\n",
       "    <tr>\n",
       "      <th>1</th>\n",
       "      <td>Nguyenbury</td>\n",
       "      <td>8</td>\n",
       "      <td>Urban</td>\n",
       "    </tr>\n",
       "    <tr>\n",
       "      <th>2</th>\n",
       "      <td>East Douglas</td>\n",
       "      <td>12</td>\n",
       "      <td>Urban</td>\n",
       "    </tr>\n",
       "    <tr>\n",
       "      <th>3</th>\n",
       "      <td>West Dawnfurt</td>\n",
       "      <td>34</td>\n",
       "      <td>Urban</td>\n",
       "    </tr>\n",
       "    <tr>\n",
       "      <th>4</th>\n",
       "      <td>Rodriguezburgh</td>\n",
       "      <td>52</td>\n",
       "      <td>Urban</td>\n",
       "    </tr>\n",
       "  </tbody>\n",
       "</table>\n",
       "</div>"
      ],
      "text/plain": [
       "             city  driver_count   type\n",
       "0      Kelseyland            63  Urban\n",
       "1      Nguyenbury             8  Urban\n",
       "2    East Douglas            12  Urban\n",
       "3   West Dawnfurt            34  Urban\n",
       "4  Rodriguezburgh            52  Urban"
      ]
     },
     "execution_count": 52,
     "metadata": {},
     "output_type": "execute_result"
    }
   ],
   "source": [
    "#call raw data files\n",
    "city_path= \"raw_data/city_data.csv\"\n",
    "ride_path = \"raw_data/ride_data.csv\"\n",
    "\n",
    "#read raw data files into dataframes\n",
    "city_data = pd.read_csv(city_path)\n",
    "ride_data = pd.read_csv(ride_path)\n",
    "\n",
    "#sorted_city_data = city_data.sort(\"city\", inplace = True)\n",
    "\n",
    "city_data_df = pd.DataFrame(city_data)\n",
    "ride_data_df = pd.DataFrame(ride_data)\n",
    "\n",
    "#preview the data frame\n",
    "city_data_df.head()"
   ]
  },
  {
   "cell_type": "code",
   "execution_count": 53,
   "metadata": {},
   "outputs": [
    {
     "data": {
      "text/html": [
       "<div>\n",
       "<style>\n",
       "    .dataframe thead tr:only-child th {\n",
       "        text-align: right;\n",
       "    }\n",
       "\n",
       "    .dataframe thead th {\n",
       "        text-align: left;\n",
       "    }\n",
       "\n",
       "    .dataframe tbody tr th {\n",
       "        vertical-align: top;\n",
       "    }\n",
       "</style>\n",
       "<table border=\"1\" class=\"dataframe\">\n",
       "  <thead>\n",
       "    <tr style=\"text-align: right;\">\n",
       "      <th></th>\n",
       "      <th>city</th>\n",
       "      <th>date</th>\n",
       "      <th>fare</th>\n",
       "      <th>ride_id</th>\n",
       "    </tr>\n",
       "  </thead>\n",
       "  <tbody>\n",
       "    <tr>\n",
       "      <th>0</th>\n",
       "      <td>Sarabury</td>\n",
       "      <td>2016-01-16 13:49:27</td>\n",
       "      <td>38.35</td>\n",
       "      <td>5403689035038</td>\n",
       "    </tr>\n",
       "    <tr>\n",
       "      <th>1</th>\n",
       "      <td>South Roy</td>\n",
       "      <td>2016-01-02 18:42:34</td>\n",
       "      <td>17.49</td>\n",
       "      <td>4036272335942</td>\n",
       "    </tr>\n",
       "    <tr>\n",
       "      <th>2</th>\n",
       "      <td>Wiseborough</td>\n",
       "      <td>2016-01-21 17:35:29</td>\n",
       "      <td>44.18</td>\n",
       "      <td>3645042422587</td>\n",
       "    </tr>\n",
       "    <tr>\n",
       "      <th>3</th>\n",
       "      <td>Spencertown</td>\n",
       "      <td>2016-07-31 14:53:22</td>\n",
       "      <td>6.87</td>\n",
       "      <td>2242596575892</td>\n",
       "    </tr>\n",
       "    <tr>\n",
       "      <th>4</th>\n",
       "      <td>Nguyenbury</td>\n",
       "      <td>2016-07-09 04:42:44</td>\n",
       "      <td>6.28</td>\n",
       "      <td>1543057793673</td>\n",
       "    </tr>\n",
       "  </tbody>\n",
       "</table>\n",
       "</div>"
      ],
      "text/plain": [
       "          city                 date   fare        ride_id\n",
       "0     Sarabury  2016-01-16 13:49:27  38.35  5403689035038\n",
       "1    South Roy  2016-01-02 18:42:34  17.49  4036272335942\n",
       "2  Wiseborough  2016-01-21 17:35:29  44.18  3645042422587\n",
       "3  Spencertown  2016-07-31 14:53:22   6.87  2242596575892\n",
       "4   Nguyenbury  2016-07-09 04:42:44   6.28  1543057793673"
      ]
     },
     "execution_count": 53,
     "metadata": {},
     "output_type": "execute_result"
    }
   ],
   "source": [
    "#preview the data frame\n",
    "ride_data_df.head()"
   ]
  },
  {
   "cell_type": "code",
   "execution_count": 54,
   "metadata": {},
   "outputs": [
    {
     "name": "stdout",
     "output_type": "stream",
     "text": [
      "2407\n",
      "2375\n"
     ]
    },
    {
     "data": {
      "text/html": [
       "<div>\n",
       "<style>\n",
       "    .dataframe thead tr:only-child th {\n",
       "        text-align: right;\n",
       "    }\n",
       "\n",
       "    .dataframe thead th {\n",
       "        text-align: left;\n",
       "    }\n",
       "\n",
       "    .dataframe tbody tr th {\n",
       "        vertical-align: top;\n",
       "    }\n",
       "</style>\n",
       "<table border=\"1\" class=\"dataframe\">\n",
       "  <thead>\n",
       "    <tr style=\"text-align: right;\">\n",
       "      <th></th>\n",
       "      <th>city</th>\n",
       "      <th>date</th>\n",
       "      <th>fare</th>\n",
       "      <th>ride_id</th>\n",
       "      <th>driver_count</th>\n",
       "      <th>type</th>\n",
       "    </tr>\n",
       "  </thead>\n",
       "  <tbody>\n",
       "    <tr>\n",
       "      <th>0</th>\n",
       "      <td>Sarabury</td>\n",
       "      <td>2016-01-16 13:49:27</td>\n",
       "      <td>38.35</td>\n",
       "      <td>5403689035038</td>\n",
       "      <td>46</td>\n",
       "      <td>Urban</td>\n",
       "    </tr>\n",
       "    <tr>\n",
       "      <th>1</th>\n",
       "      <td>South Roy</td>\n",
       "      <td>2016-01-02 18:42:34</td>\n",
       "      <td>17.49</td>\n",
       "      <td>4036272335942</td>\n",
       "      <td>35</td>\n",
       "      <td>Urban</td>\n",
       "    </tr>\n",
       "    <tr>\n",
       "      <th>2</th>\n",
       "      <td>Wiseborough</td>\n",
       "      <td>2016-01-21 17:35:29</td>\n",
       "      <td>44.18</td>\n",
       "      <td>3645042422587</td>\n",
       "      <td>55</td>\n",
       "      <td>Urban</td>\n",
       "    </tr>\n",
       "    <tr>\n",
       "      <th>3</th>\n",
       "      <td>Spencertown</td>\n",
       "      <td>2016-07-31 14:53:22</td>\n",
       "      <td>6.87</td>\n",
       "      <td>2242596575892</td>\n",
       "      <td>68</td>\n",
       "      <td>Urban</td>\n",
       "    </tr>\n",
       "    <tr>\n",
       "      <th>4</th>\n",
       "      <td>Nguyenbury</td>\n",
       "      <td>2016-07-09 04:42:44</td>\n",
       "      <td>6.28</td>\n",
       "      <td>1543057793673</td>\n",
       "      <td>8</td>\n",
       "      <td>Urban</td>\n",
       "    </tr>\n",
       "  </tbody>\n",
       "</table>\n",
       "</div>"
      ],
      "text/plain": [
       "          city                 date   fare        ride_id  driver_count   type\n",
       "0     Sarabury  2016-01-16 13:49:27  38.35  5403689035038            46  Urban\n",
       "1    South Roy  2016-01-02 18:42:34  17.49  4036272335942            35  Urban\n",
       "2  Wiseborough  2016-01-21 17:35:29  44.18  3645042422587            55  Urban\n",
       "3  Spencertown  2016-07-31 14:53:22   6.87  2242596575892            68  Urban\n",
       "4   Nguyenbury  2016-07-09 04:42:44   6.28  1543057793673             8  Urban"
      ]
     },
     "execution_count": 54,
     "metadata": {},
     "output_type": "execute_result"
    }
   ],
   "source": [
    "all_data = pd.merge(ride_data, city_data, how=\"left\", on=\"city\")\n",
    "\n",
    "#compare the length of all_data and ride_data... it looks like there are 32 cities with no ride data, so they have blank rows\n",
    "#(due to the outer join)\n",
    "print(len(all_data))\n",
    "print(len(ride_data))\n",
    "all_data.head()\n",
    "#list(all_data)"
   ]
  },
  {
   "cell_type": "code",
   "execution_count": 63,
   "metadata": {},
   "outputs": [
    {
     "data": {
      "text/html": [
       "<div>\n",
       "<style>\n",
       "    .dataframe thead tr:only-child th {\n",
       "        text-align: right;\n",
       "    }\n",
       "\n",
       "    .dataframe thead th {\n",
       "        text-align: left;\n",
       "    }\n",
       "\n",
       "    .dataframe tbody tr th {\n",
       "        vertical-align: top;\n",
       "    }\n",
       "</style>\n",
       "<table border=\"1\" class=\"dataframe\">\n",
       "  <thead>\n",
       "    <tr style=\"text-align: right;\">\n",
       "      <th></th>\n",
       "      <th>city</th>\n",
       "      <th>date</th>\n",
       "      <th>fare</th>\n",
       "      <th>ride_id</th>\n",
       "      <th>driver_count</th>\n",
       "      <th>type</th>\n",
       "    </tr>\n",
       "  </thead>\n",
       "  <tbody>\n",
       "    <tr>\n",
       "      <th>2282</th>\n",
       "      <td>Horneland</td>\n",
       "      <td>2016-07-19 10:07:33</td>\n",
       "      <td>12.63</td>\n",
       "      <td>8214498891817</td>\n",
       "      <td>8</td>\n",
       "      <td>Rural</td>\n",
       "    </tr>\n",
       "    <tr>\n",
       "      <th>2283</th>\n",
       "      <td>Kinghaven</td>\n",
       "      <td>2016-05-18 23:28:12</td>\n",
       "      <td>20.53</td>\n",
       "      <td>6432117120069</td>\n",
       "      <td>3</td>\n",
       "      <td>Rural</td>\n",
       "    </tr>\n",
       "    <tr>\n",
       "      <th>2284</th>\n",
       "      <td>New Johnbury</td>\n",
       "      <td>2016-04-21 08:30:25</td>\n",
       "      <td>56.60</td>\n",
       "      <td>9002881309143</td>\n",
       "      <td>6</td>\n",
       "      <td>Rural</td>\n",
       "    </tr>\n",
       "    <tr>\n",
       "      <th>2285</th>\n",
       "      <td>South Joseph</td>\n",
       "      <td>2016-02-17 01:41:29</td>\n",
       "      <td>57.52</td>\n",
       "      <td>7365786843443</td>\n",
       "      <td>3</td>\n",
       "      <td>Rural</td>\n",
       "    </tr>\n",
       "    <tr>\n",
       "      <th>2286</th>\n",
       "      <td>Kennethburgh</td>\n",
       "      <td>2016-10-19 13:13:17</td>\n",
       "      <td>24.43</td>\n",
       "      <td>2728236352387</td>\n",
       "      <td>3</td>\n",
       "      <td>Rural</td>\n",
       "    </tr>\n",
       "  </tbody>\n",
       "</table>\n",
       "</div>"
      ],
      "text/plain": [
       "              city                 date   fare        ride_id  driver_count  \\\n",
       "2282     Horneland  2016-07-19 10:07:33  12.63  8214498891817             8   \n",
       "2283     Kinghaven  2016-05-18 23:28:12  20.53  6432117120069             3   \n",
       "2284  New Johnbury  2016-04-21 08:30:25  56.60  9002881309143             6   \n",
       "2285  South Joseph  2016-02-17 01:41:29  57.52  7365786843443             3   \n",
       "2286  Kennethburgh  2016-10-19 13:13:17  24.43  2728236352387             3   \n",
       "\n",
       "       type  \n",
       "2282  Rural  \n",
       "2283  Rural  \n",
       "2284  Rural  \n",
       "2285  Rural  \n",
       "2286  Rural  "
      ]
     },
     "execution_count": 63,
     "metadata": {},
     "output_type": "execute_result"
    }
   ],
   "source": [
    "#create three separate data sets by type\n",
    "urban_data = all_data[all_data[\"type\"] == \"Urban\"]\n",
    "\n",
    "suburban_data = all_data[all_data[\"type\"] == \"Suburban\"]\n",
    "\n",
    "rural_data = all_data[all_data[\"type\"] == \"Rural\"]\n",
    "rural_data.head()\n"
   ]
  },
  {
   "cell_type": "code",
   "execution_count": 64,
   "metadata": {},
   "outputs": [
    {
     "data": {
      "image/png": "[encoded data removed]",
      "text/plain": [
       "<matplotlib.figure.Figure at 0x1d1ef8b2ef0>"
      ]
     },
     "metadata": {},
     "output_type": "display_data"
    }
   ],
   "source": [
    "#plot urban data\n",
    "plt.scatter(urban_data.groupby([\"city\"]).count()[\"fare\"], urban_data.groupby([\"city\"]).mean()[\"fare\"], \n",
    "            s = urban_data.groupby([\"city\"]).mean()[\"driver_count\"] * 2, \n",
    "            alpha = .5, label = \"Urban\", c = \"yellow\", edgecolor = \"darkgrey\")\n",
    "\n",
    "#plot suburban data\n",
    "plt.scatter(suburban_data.groupby([\"city\"]).count()[\"fare\"], suburban_data.groupby([\"city\"]).mean()[\"fare\"], \n",
    "            s = suburban_data.groupby([\"city\"]).mean()[\"driver_count\"]*2, \n",
    "            alpha = .5, label = \"Suburban\", c = \"dodgerblue\", edgecolor = \"darkgrey\")\n",
    "\n",
    "#plot rural data\n",
    "plt.scatter(rural_data.groupby([\"city\"]).count()[\"fare\"], rural_data.groupby([\"city\"]).mean()[\"fare\"], \n",
    "            s = rural_data.groupby([\"city\"]).mean()[\"driver_count\"]*2, \n",
    "            alpha = .5, label = \"Rural\", c = \"firebrick\", edgecolor = \"darkgrey\")\n",
    "\n",
    "plt.xlim(0,40)\n",
    "plt.ylim(15,45)\n",
    "plt.xlabel(\"Total Number of Rides per City\")\n",
    "plt.ylabel(\"Average Fare ($) per City\")\n",
    "plt.title(\"Pyber Ride Sharing Data (2016)\")\n",
    "plt.legend(loc=\"best\", title = \"City Type\")\n",
    "\n",
    "sns.set_style({'legend.frameon': True})\n",
    "sns.set()\n",
    "# Save the figure\n",
    "plt.savefig(\"Pyber_scatter.png\")\n",
    "\n",
    "plt.show()\n",
    "#average_fare.head()"
   ]
  },
  {
   "cell_type": "code",
   "execution_count": 66,
   "metadata": {},
   "outputs": [
    {
     "data": {
      "text/html": [
       "<div>\n",
       "<style>\n",
       "    .dataframe thead tr:only-child th {\n",
       "        text-align: right;\n",
       "    }\n",
       "\n",
       "    .dataframe thead th {\n",
       "        text-align: left;\n",
       "    }\n",
       "\n",
       "    .dataframe tbody tr th {\n",
       "        vertical-align: top;\n",
       "    }\n",
       "</style>\n",
       "<table border=\"1\" class=\"dataframe\">\n",
       "  <thead>\n",
       "    <tr style=\"text-align: right;\">\n",
       "      <th></th>\n",
       "      <th></th>\n",
       "      <th>fare</th>\n",
       "      <th>ride_id</th>\n",
       "      <th>driver_count</th>\n",
       "    </tr>\n",
       "    <tr>\n",
       "      <th>city</th>\n",
       "      <th>type</th>\n",
       "      <th></th>\n",
       "      <th></th>\n",
       "      <th></th>\n",
       "    </tr>\n",
       "  </thead>\n",
       "  <tbody>\n",
       "    <tr>\n",
       "      <th>Alvarezhaven</th>\n",
       "      <th>Urban</th>\n",
       "      <td>23.928710</td>\n",
       "      <td>5.351586e+12</td>\n",
       "      <td>21.0</td>\n",
       "    </tr>\n",
       "    <tr>\n",
       "      <th>Alyssaberg</th>\n",
       "      <th>Urban</th>\n",
       "      <td>20.609615</td>\n",
       "      <td>3.536678e+12</td>\n",
       "      <td>67.0</td>\n",
       "    </tr>\n",
       "    <tr>\n",
       "      <th>Anitamouth</th>\n",
       "      <th>Suburban</th>\n",
       "      <td>37.315556</td>\n",
       "      <td>4.195870e+12</td>\n",
       "      <td>16.0</td>\n",
       "    </tr>\n",
       "    <tr>\n",
       "      <th>Antoniomouth</th>\n",
       "      <th>Urban</th>\n",
       "      <td>23.625000</td>\n",
       "      <td>5.086800e+12</td>\n",
       "      <td>21.0</td>\n",
       "    </tr>\n",
       "    <tr>\n",
       "      <th>Aprilchester</th>\n",
       "      <th>Urban</th>\n",
       "      <td>21.981579</td>\n",
       "      <td>4.574788e+12</td>\n",
       "      <td>49.0</td>\n",
       "    </tr>\n",
       "  </tbody>\n",
       "</table>\n",
       "</div>"
      ],
      "text/plain": [
       "                            fare       ride_id  driver_count\n",
       "city         type                                           \n",
       "Alvarezhaven Urban     23.928710  5.351586e+12          21.0\n",
       "Alyssaberg   Urban     20.609615  3.536678e+12          67.0\n",
       "Anitamouth   Suburban  37.315556  4.195870e+12          16.0\n",
       "Antoniomouth Urban     23.625000  5.086800e+12          21.0\n",
       "Aprilchester Urban     21.981579  4.574788e+12          49.0"
      ]
     },
     "execution_count": 66,
     "metadata": {},
     "output_type": "execute_result"
    }
   ],
   "source": [
    "#FARSHID SOLUTION (keep for now) BUT IGNORE\n",
    "grouped_data = all_data.groupby([\"city\",\"type\"])\n",
    "\n",
    "#type(grouped_data)\n",
    "grouped_data.mean().head()"
   ]
  },
  {
   "cell_type": "code",
   "execution_count": 84,
   "metadata": {},
   "outputs": [
    {
     "data": {
      "image/png": "[encoded data removed]",
      "text/plain": [
       "<matplotlib.figure.Figure at 0x1d1ef63d6a0>"
      ]
     },
     "metadata": {},
     "output_type": "display_data"
    }
   ],
   "source": [
    "# % of Total Fares by City Type\n",
    "\n",
    "urban_fares = urban_data[\"fare\"].sum()\n",
    "suburban_fares = suburban_data[\"fare\"].sum()\n",
    "rural_fares = rural_data[\"fare\"].sum()\n",
    "\n",
    "\n",
    "type_fares = [urban_fares, suburban_fares, rural_fares]\n",
    "explode = [0, 0.1, 0.1]\n",
    "labels = [\"Urban\", \"Suburban\", \"Rural\"]\n",
    "\n",
    "plt.pie(type_fares, explode = explode, labels = labels, autopct='%1.1f%%', shadow = True)\n",
    "plt.title(\"% of Total Fares by City Type\")\n",
    "plt.show()"
   ]
  },
  {
   "cell_type": "code",
   "execution_count": 85,
   "metadata": {},
   "outputs": [
    {
     "data": {
      "image/png": "[encoded data removed]",
      "text/plain": [
       "<matplotlib.figure.Figure at 0x1d1ef2314e0>"
      ]
     },
     "metadata": {},
     "output_type": "display_data"
    }
   ],
   "source": [
    "# % of Total Rides by City Type\n",
    "\n",
    "urban_rides = len(urban_data[\"fare\"])\n",
    "suburban_rides = len(suburban_data[\"fare\"])\n",
    "rural_rides = len(rural_data[\"fare\"])\n",
    "\n",
    "\n",
    "type_rides = [urban_rides, suburban_rides, rural_rides]\n",
    "ride_percents = [urban_rides/total_rides, suburban_rides/total_rides, rural_rides/total_rides]\n",
    "explode = [0, 0.1, 0.1]\n",
    "labels = [\"Urban\", \"Suburban\", \"Rural\"]\n",
    "\n",
    "plt.pie(type_rides, explode = explode, labels = labels, autopct='%1.1f%%', shadow = True)\n",
    "plt.title(\"% of Total Rides by City Type\")\n",
    "plt.show()\n"
   ]
  },
  {
   "cell_type": "code",
   "execution_count": 93,
   "metadata": {},
   "outputs": [
    {
     "data": {
      "image/png": "[encoded data removed]",
      "text/plain": [
       "<matplotlib.figure.Figure at 0x1d1ef7475f8>"
      ]
     },
     "metadata": {},
     "output_type": "display_data"
    }
   ],
   "source": [
    "# % of Total Drivers by City Type\n",
    "\n",
    "drivers_by_type = [all_data[all_data[\"type\"] ==\"Urban\"].sum()[\"driver_count\"],\n",
    "                  all_data[all_data[\"type\"] ==\"Suburban\"].sum()[\"driver_count\"],\n",
    "                   all_data[all_data[\"type\"] ==\"Rural\"].sum()[\"driver_count\"]            \n",
    "                  ]\n",
    "plt.pie(drivers_by_type, explode = explode, labels = labels, autopct='%1.1f%%', shadow = True)\n",
    "plt.title(\"% of Drivers by City Type\")\n",
    "plt.show()"
   ]
  },
  {
   "cell_type": "code",
   "execution_count": null,
   "metadata": {
    "collapsed": true
   },
   "outputs": [],
   "source": []
  }
 ],
 "metadata": {
  "kernelspec": {
   "display_name": "Python [default]",
   "language": "python",
   "name": "python3"
  },
  "language_info": {
   "codemirror_mode": {
    "name": "ipython",
    "version": 3
   },
   "file_extension": ".py",
   "mimetype": "text/x-python",
   "name": "python",
   "nbconvert_exporter": "python",
   "pygments_lexer": "ipython3",
   "version": "3.6.3"
  }
 },
 "nbformat": 4,
 "nbformat_minor": 2
}
