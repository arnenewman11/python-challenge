{
 "cells": [
  {
   "cell_type": "code",
   "execution_count": 12,
   "metadata": {
    "collapsed": true
   },
   "outputs": [],
   "source": [
    "# Dependencies\n",
    "import os\n",
    "import pandas as pd\n",
    "import numpy as np\n",
    "import requests\n",
    "import json\n",
    "import random\n",
    "from citipy import citipy\n",
    "\n",
    "#pull in citypy\n"
   ]
  },
  {
   "cell_type": "code",
   "execution_count": 13,
   "metadata": {},
   "outputs": [
    {
     "name": "stdout",
     "output_type": "stream",
     "text": [
      "[-41.756641    53.35014198  36.98831291 -61.24428038  75.97109266\n",
      " -89.81468832 -70.44094237  36.14447359 -12.58278875 -42.19140871]\n"
     ]
    }
   ],
   "source": [
    "#citipy trial\n",
    "rand_lat = np.random.uniform(-90,90,10)\n",
    "rand_lon = np.random.uniform(-180,180,10)\n",
    "print(rand_lat)\n",
    "#trial_city = citipy.nearest_city(rand_lat, rand_lon)\n",
    "#trial_city.city_name\n",
    "#trial_city.country_code\n"
   ]
  },
  {
   "cell_type": "code",
   "execution_count": 15,
   "metadata": {},
   "outputs": [],
   "source": [
    "#create a a list or dataframe of 500 cities\n",
    "lat_list = np.random.uniform(-90,90,1000)\n",
    "lng_list = np.random.uniform(-180,180,1000)\n"
   ]
  },
  {
   "cell_type": "code",
   "execution_count": null,
   "metadata": {
    "collapsed": true
   },
   "outputs": [],
   "source": []
  }
 ],
 "metadata": {
  "kernelspec": {
   "display_name": "Python [conda env:PythonData]",
   "language": "python",
   "name": "conda-env-PythonData-py"
  },
  "language_info": {
   "codemirror_mode": {
    "name": "ipython",
    "version": 3
   },
   "file_extension": ".py",
   "mimetype": "text/x-python",
   "name": "python",
   "nbconvert_exporter": "python",
   "pygments_lexer": "ipython3",
   "version": "3.6.3"
  }
 },
 "nbformat": 4,
 "nbformat_minor": 2
}
