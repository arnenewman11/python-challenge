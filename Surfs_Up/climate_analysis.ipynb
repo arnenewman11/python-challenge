{
 "cells": [
  {
   "cell_type": "code",
   "execution_count": 127,
   "metadata": {
    "collapsed": true
   },
   "outputs": [],
   "source": [
    "import pandas as  pd\n",
    "import numpy as np \n",
    "\n",
    "# SQL Alchemy\n",
    "from sqlalchemy import create_engine,Column, Integer, String, Float,  func, DateTime, ForeignKey, inspect, MetaData, and_\n",
    "from sqlalchemy.ext.automap import automap_base\n",
    "from sqlalchemy.orm import Session\n",
    "\n",
    "import matplotlib.pyplot as plt\n",
    "\n",
    "# PyMySQL \n",
    "import pymysql\n",
    "pymysql.install_as_MySQLdb()"
   ]
  },
  {
   "cell_type": "code",
   "execution_count": 3,
   "metadata": {
    "collapsed": true
   },
   "outputs": [],
   "source": [
    "#selected start/end dates are 7/1/17-7/10/17"
   ]
  },
  {
   "cell_type": "code",
   "execution_count": 4,
   "metadata": {
    "collapsed": true
   },
   "outputs": [],
   "source": [
    "# Create an engine for the `hawaii.sqlite` database\n",
    "engine = create_engine(\"sqlite:///hawaii.sqlite\", echo=False)\n",
    "conn = engine.connect()"
   ]
  },
  {
   "cell_type": "code",
   "execution_count": 5,
   "metadata": {},
   "outputs": [
    {
     "data": {
      "text/plain": [
       "['measurements', 'stations']"
      ]
     },
     "execution_count": 5,
     "metadata": {},
     "output_type": "execute_result"
    }
   ],
   "source": [
    "# Create the inspector and connect it to the engine; this is a step to check what's going on\n",
    "inspector = inspect(engine)\n",
    "\n",
    "# Collect the names of tables within the database\n",
    "inspector.get_table_names()\n",
    "\n",
    "#NOTE - I accidentally created two extra tables 'measurements_df' and 'stations_df'; ignore these"
   ]
  },
  {
   "cell_type": "code",
   "execution_count": 6,
   "metadata": {
    "scrolled": true
   },
   "outputs": [
    {
     "data": {
      "text/plain": [
       "[(0, 'USC00519397', '2010-01-01', 0.08, 65),\n",
       " (1, 'USC00519397', '2010-01-02', 0.0, 63),\n",
       " (2, 'USC00519397', '2010-01-03', 0.0, 74),\n",
       " (3, 'USC00519397', '2010-01-04', 0.0, 76),\n",
       " (4, 'USC00519397', '2010-01-07', 0.06, 70)]"
      ]
     },
     "execution_count": 6,
     "metadata": {},
     "output_type": "execute_result"
    }
   ],
   "source": [
    "# CHECKING WORK: Use `engine.execute` to select and display the first 10 rows from the  table\n",
    "engine.execute('SELECT * FROM measurements LIMIT 5').fetchall()"
   ]
  },
  {
   "cell_type": "code",
   "execution_count": 7,
   "metadata": {
    "collapsed": true
   },
   "outputs": [],
   "source": [
    "# Declare a base to reflect database tables\n",
    "Base = automap_base()\n",
    "Base.prepare(engine, reflect=True)"
   ]
  },
  {
   "cell_type": "code",
   "execution_count": 8,
   "metadata": {},
   "outputs": [
    {
     "data": {
      "text/plain": [
       "['measurements', 'stations']"
      ]
     },
     "execution_count": 8,
     "metadata": {},
     "output_type": "execute_result"
    }
   ],
   "source": [
    "# Print all of the classes mapped to the Base\n",
    "#THIS STEP ISN'T WORKING\n",
    "Base.classes.keys()"
   ]
  },
  {
   "cell_type": "code",
   "execution_count": 9,
   "metadata": {
    "collapsed": true
   },
   "outputs": [],
   "source": [
    "# Assign the classes to variables\n",
    "\n",
    "Stations = Base.classes.stations\n",
    "Measurements = Base.classes.measurements"
   ]
  },
  {
   "cell_type": "markdown",
   "metadata": {
    "collapsed": true
   },
   "source": [
    "Precipitation Analysis"
   ]
  },
  {
   "cell_type": "code",
   "execution_count": 10,
   "metadata": {
    "collapsed": true
   },
   "outputs": [],
   "source": [
    "#initiate a session\n",
    "session = Session(bind=engine)"
   ]
  },
  {
   "cell_type": "code",
   "execution_count": 69,
   "metadata": {},
   "outputs": [
    {
     "data": {
      "text/html": [
       "<div>\n",
       "<style>\n",
       "    .dataframe thead tr:only-child th {\n",
       "        text-align: right;\n",
       "    }\n",
       "\n",
       "    .dataframe thead th {\n",
       "        text-align: left;\n",
       "    }\n",
       "\n",
       "    .dataframe tbody tr th {\n",
       "        vertical-align: top;\n",
       "    }\n",
       "</style>\n",
       "<table border=\"1\" class=\"dataframe\">\n",
       "  <thead>\n",
       "    <tr style=\"text-align: right;\">\n",
       "      <th></th>\n",
       "      <th>prcp</th>\n",
       "    </tr>\n",
       "    <tr>\n",
       "      <th>date</th>\n",
       "      <th></th>\n",
       "    </tr>\n",
       "  </thead>\n",
       "  <tbody>\n",
       "    <tr>\n",
       "      <th>2017-08-23</th>\n",
       "      <td>0.45</td>\n",
       "    </tr>\n",
       "    <tr>\n",
       "      <th>2017-08-22</th>\n",
       "      <td>0.50</td>\n",
       "    </tr>\n",
       "    <tr>\n",
       "      <th>2017-08-21</th>\n",
       "      <td>0.56</td>\n",
       "    </tr>\n",
       "    <tr>\n",
       "      <th>2017-08-20</th>\n",
       "      <td>0.01</td>\n",
       "    </tr>\n",
       "    <tr>\n",
       "      <th>2017-08-19</th>\n",
       "      <td>0.09</td>\n",
       "    </tr>\n",
       "  </tbody>\n",
       "</table>\n",
       "</div>"
      ],
      "text/plain": [
       "            prcp\n",
       "date            \n",
       "2017-08-23  0.45\n",
       "2017-08-22  0.50\n",
       "2017-08-21  0.56\n",
       "2017-08-20  0.01\n",
       "2017-08-19  0.09"
      ]
     },
     "execution_count": 69,
     "metadata": {},
     "output_type": "execute_result"
    }
   ],
   "source": [
    "#Query that sorts in descending order to find date and precip, \n",
    "precip_results = session.query(Measurements.date, Measurements.prcp).filter(Measurements.date >= '2016-08-23').\\\n",
    "    group_by(Measurements.date).\\\n",
    "    order_by(Measurements.date.desc()).statement\n",
    "\n",
    "precip_data = pd.read_sql_query(precip_results, session.bind)\n",
    "\n",
    "precip_data.set_index(\"date\", inplace=True)\n",
    "\n",
    "precip_data.head()"
   ]
  },
  {
   "cell_type": "code",
   "execution_count": 74,
   "metadata": {},
   "outputs": [
    {
     "data": {
      "image/png": "[encoded data removed]",
      "text/plain": [
       "<matplotlib.figure.Figure at 0x24cd1a4def0>"
      ]
     },
     "metadata": {},
     "output_type": "display_data"
    }
   ],
   "source": [
    "precip_data.plot.bar(y='prcp')\n",
    "plt.ylim(0, 5)\n",
    "plt.xticks(np.arange(0,366, 50))\n",
    "plt.show()\n",
    "\n",
    "## Unable to get labels to work correctly"
   ]
  },
  {
   "cell_type": "code",
   "execution_count": 60,
   "metadata": {},
   "outputs": [
    {
     "name": "stdout",
     "output_type": "stream",
     "text": [
      "Max daily precip, in inches, is 4.0\n",
      "Average daily precip, in inches, is 0.11679452054794523\n",
      "Total annual precip, in inches, is 42.63000000000001\n"
     ]
    }
   ],
   "source": [
    "max_daily_precip = precip_data[\"prcp\"].max()\n",
    "avg_daily_precip = precip_data[\"prcp\"].mean()\n",
    "total_12mo_precip = precip_data[\"prcp\"].sum()\n",
    "\n",
    "\n",
    "print(\"Max daily precip, in inches, is \" + str(max_daily_precip))\n",
    "print(\"Average daily precip, in inches, is \" + str(avg_daily_precip))\n",
    "print(\"Total annual precip, in inches, is \" + str(total_12mo_precip))"
   ]
  },
  {
   "cell_type": "code",
   "execution_count": 79,
   "metadata": {},
   "outputs": [
    {
     "name": "stdout",
     "output_type": "stream",
     "text": [
      "9\n"
     ]
    }
   ],
   "source": [
    "##Station analysis \n",
    "#Design a query to calculate the total number of stations\n",
    "station_count = session.query(Stations.name).count()\n",
    "print(station_count)"
   ]
  },
  {
   "cell_type": "code",
   "execution_count": 102,
   "metadata": {
    "scrolled": true
   },
   "outputs": [
    {
     "data": {
      "text/html": [
       "<div>\n",
       "<style>\n",
       "    .dataframe thead tr:only-child th {\n",
       "        text-align: right;\n",
       "    }\n",
       "\n",
       "    .dataframe thead th {\n",
       "        text-align: left;\n",
       "    }\n",
       "\n",
       "    .dataframe tbody tr th {\n",
       "        vertical-align: top;\n",
       "    }\n",
       "</style>\n",
       "<table border=\"1\" class=\"dataframe\">\n",
       "  <thead>\n",
       "    <tr style=\"text-align: right;\">\n",
       "      <th></th>\n",
       "      <th>station</th>\n",
       "      <th>count_1</th>\n",
       "    </tr>\n",
       "  </thead>\n",
       "  <tbody>\n",
       "    <tr>\n",
       "      <th>6</th>\n",
       "      <td>USC00519281</td>\n",
       "      <td>2772</td>\n",
       "    </tr>\n",
       "    <tr>\n",
       "      <th>1</th>\n",
       "      <td>USC00513117</td>\n",
       "      <td>2696</td>\n",
       "    </tr>\n",
       "    <tr>\n",
       "      <th>7</th>\n",
       "      <td>USC00519397</td>\n",
       "      <td>2685</td>\n",
       "    </tr>\n",
       "    <tr>\n",
       "      <th>8</th>\n",
       "      <td>USC00519523</td>\n",
       "      <td>2572</td>\n",
       "    </tr>\n",
       "    <tr>\n",
       "      <th>3</th>\n",
       "      <td>USC00516128</td>\n",
       "      <td>2484</td>\n",
       "    </tr>\n",
       "    <tr>\n",
       "      <th>2</th>\n",
       "      <td>USC00514830</td>\n",
       "      <td>1937</td>\n",
       "    </tr>\n",
       "    <tr>\n",
       "      <th>0</th>\n",
       "      <td>USC00511918</td>\n",
       "      <td>1932</td>\n",
       "    </tr>\n",
       "    <tr>\n",
       "      <th>4</th>\n",
       "      <td>USC00517948</td>\n",
       "      <td>683</td>\n",
       "    </tr>\n",
       "    <tr>\n",
       "      <th>5</th>\n",
       "      <td>USC00518838</td>\n",
       "      <td>342</td>\n",
       "    </tr>\n",
       "  </tbody>\n",
       "</table>\n",
       "</div>"
      ],
      "text/plain": [
       "       station  count_1\n",
       "6  USC00519281     2772\n",
       "1  USC00513117     2696\n",
       "7  USC00519397     2685\n",
       "8  USC00519523     2572\n",
       "3  USC00516128     2484\n",
       "2  USC00514830     1937\n",
       "0  USC00511918     1932\n",
       "4  USC00517948      683\n",
       "5  USC00518838      342"
      ]
     },
     "execution_count": 102,
     "metadata": {},
     "output_type": "execute_result"
    }
   ],
   "source": [
    "##Design a query to find the most active stations.\n",
    "#List the stations and observation counts in descending order\n",
    "\n",
    "observation_counts = session.query(Measurements.station, func.count(Measurements.station)).group_by(Measurements.station).\\\n",
    "statement\n",
    "\n",
    "obs_counts_df = pd.read_sql_query(observation_counts, session.bind)\n",
    "\n",
    "#sort by count in descending order\n",
    "obs_counts_df.sort_values(by = [\"count_1\"], ascending=False, inplace=True)\n",
    "\n",
    "obs_counts_df"
   ]
  },
  {
   "cell_type": "code",
   "execution_count": 104,
   "metadata": {},
   "outputs": [],
   "source": [
    "#Which station has the highest number of observations?\n",
    "\n",
    "#Answer: Station USC00519397 has the highest number. "
   ]
  },
  {
   "cell_type": "code",
   "execution_count": 108,
   "metadata": {
    "scrolled": true
   },
   "outputs": [
    {
     "data": {
      "text/html": [
       "<div>\n",
       "<style>\n",
       "    .dataframe thead tr:only-child th {\n",
       "        text-align: right;\n",
       "    }\n",
       "\n",
       "    .dataframe thead th {\n",
       "        text-align: left;\n",
       "    }\n",
       "\n",
       "    .dataframe tbody tr th {\n",
       "        vertical-align: top;\n",
       "    }\n",
       "</style>\n",
       "<table border=\"1\" class=\"dataframe\">\n",
       "  <thead>\n",
       "    <tr style=\"text-align: right;\">\n",
       "      <th></th>\n",
       "      <th>tobs</th>\n",
       "    </tr>\n",
       "  </thead>\n",
       "  <tbody>\n",
       "    <tr>\n",
       "      <th>0</th>\n",
       "      <td>65</td>\n",
       "    </tr>\n",
       "    <tr>\n",
       "      <th>1</th>\n",
       "      <td>63</td>\n",
       "    </tr>\n",
       "    <tr>\n",
       "      <th>2</th>\n",
       "      <td>74</td>\n",
       "    </tr>\n",
       "    <tr>\n",
       "      <th>3</th>\n",
       "      <td>76</td>\n",
       "    </tr>\n",
       "    <tr>\n",
       "      <th>4</th>\n",
       "      <td>70</td>\n",
       "    </tr>\n",
       "  </tbody>\n",
       "</table>\n",
       "</div>"
      ],
      "text/plain": [
       "   tobs\n",
       "0    65\n",
       "1    63\n",
       "2    74\n",
       "3    76\n",
       "4    70"
      ]
     },
     "execution_count": 108,
     "metadata": {},
     "output_type": "execute_result"
    }
   ],
   "source": [
    "##Design a query to retrieve the last 12 months of temperature observation data (tobs).\n",
    "#Filter by the station with the highest number of observations.\n",
    "obs_data = session.query(Measurements.tobs).filter(Measurements.station == 'USC00519397').statement\n",
    "\n",
    "obs_data_df = pd.read_sql_query(obs_data, session.bind)\n",
    "\n",
    "obs_data_df.head()"
   ]
  },
  {
   "cell_type": "code",
   "execution_count": 113,
   "metadata": {
    "scrolled": true
   },
   "outputs": [
    {
     "data": {
      "image/png": "[encoded data removed]",
      "text/plain": [
       "<matplotlib.figure.Figure at 0x24cd177ca20>"
      ]
     },
     "metadata": {},
     "output_type": "display_data"
    }
   ],
   "source": [
    "#Plot the results as a histogram with bins=12.\n",
    "\n",
    "x = obs_data_df['tobs']\n",
    "num_bins=12\n",
    "n, bins, patches = plt.hist(x, num_bins, facecolor='blue')\n",
    "plt.xlabel('Temperature Bin')\n",
    "plt.ylabel('# of Observations')\n",
    "plt.show()"
   ]
  },
  {
   "cell_type": "code",
   "execution_count": 174,
   "metadata": {
    "scrolled": true
   },
   "outputs": [],
   "source": [
    "##Temperature Analysis\n",
    "#Write a function called calc_temps that will accept a start date and end date in the format %Y-%m-%d \n",
    "#and return the minimum, average, and maximum temperatures for that range of dates.\n",
    "\n",
    "def calc_temps(start_date, end_date):\n",
    "    \n",
    "    #query for date/temp between the start and end dates (can I remove the dates item?)\n",
    "    temp_results = session.query(Measurements.tobs).filter(and_(Measurements.date >= start_date, \\\n",
    "                                                                                   Measurements.date <= end_date )).statement\n",
    "    temp_results_df = pd.read_sql_query(temp_results, session.bind)\n",
    "    max_temp = temp_results_df[\"tobs\"].max()\n",
    "    min_temp = temp_results_df[\"tobs\"].min()\n",
    "    avg_temp = temp_results_df[\"tobs\"].mean()\n",
    "                                                                              \n",
    "    print(f'The max temperature from {start_date} to {end_date} was {max_temp}.')\n",
    "    print(f'The average temperature from {start_date} to {end_date} was {avg_temp}.')\n",
    "    print(f'The min temperature from {start_date} to {end_date} was {min_temp}.')\n",
    "    \n",
    "    N=1\n",
    "    temp_diff = max_temp - min_temp\n",
    "\n",
    "    fig, ax = plt.subplots()\n",
    "    rects1 = ax.bar(np.arange(N), avg_temp, width = 0.1, color = \"blue\", yerr = temp_diff)\n",
    "    ax.set_ylabel('Temp (F)')\n",
    "    ax.set_title('Trip Avg Temp')\n",
    "    ax.set_xticks(np.arange(N))\n",
    "    ax.set_xticklabels('')\n",
    "    plt.show()\n"
   ]
  },
  {
   "cell_type": "code",
   "execution_count": 176,
   "metadata": {},
   "outputs": [
    {
     "name": "stdout",
     "output_type": "stream",
     "text": [
      "The max temperature from 2017-07-04 to 2017-07-10 was 82.\n",
      "The average temperature from 2017-07-04 to 2017-07-10 was 77.63888888888889.\n",
      "The min temperature from 2017-07-04 to 2017-07-10 was 69.\n"
     ]
    },
    {
     "data": {
      "image/png": "[encoded data removed]",
      "text/plain": [
       "<matplotlib.figure.Figure at 0x24ccffe8080>"
      ]
     },
     "metadata": {},
     "output_type": "display_data"
    }
   ],
   "source": [
    "#run the function with my desired start and end dates\n",
    "calc_temps('2017-07-01', '2017-07-10')"
   ]
  },
  {
   "cell_type": "code",
   "execution_count": null,
   "metadata": {},
   "outputs": [],
   "source": [
    "\n"
   ]
  },
  {
   "cell_type": "code",
   "execution_count": null,
   "metadata": {
    "collapsed": true
   },
   "outputs": [],
   "source": []
  }
 ],
 "metadata": {
  "kernelspec": {
   "display_name": "Python 3",
   "language": "python",
   "name": "python3"
  },
  "language_info": {
   "codemirror_mode": {
    "name": "ipython",
    "version": 3
   },
   "file_extension": ".py",
   "mimetype": "text/x-python",
   "name": "python",
   "nbconvert_exporter": "python",
   "pygments_lexer": "ipython3",
   "version": "3.6.3"
  }
 },
 "nbformat": 4,
 "nbformat_minor": 2
}
